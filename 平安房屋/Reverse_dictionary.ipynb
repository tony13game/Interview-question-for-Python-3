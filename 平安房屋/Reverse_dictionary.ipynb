{
 "cells": [
  {
   "cell_type": "code",
   "execution_count": 2,
   "metadata": {},
   "outputs": [],
   "source": [
    "\"\"\"\n",
    "Please use Python 3 to answer question\n",
    "Welcome to answer with unit testing code if you can\n",
    " \n",
    "After you finish coding, please push to your GitHub account and share the link with us.\n",
    "\"\"\"\n",
    " \n",
    "# Please write a function to reverse the following nested input value into output value\n",
    " \n",
    "# Input:\n",
    "input_value = {\n",
    "  'hired': {\n",
    "    'be': {\n",
    "      'to': {\n",
    "        'deserve': 'I'\n",
    "      }\n",
    "    }\n",
    "  }\n",
    "}\n",
    " \n",
    "# Output:\n",
    "output_value = {\n",
    "  'I': {\n",
    "    'deserve': {\n",
    "      'to': {\n",
    "         'be': 'hired'\n",
    "      }\n",
    "    }\n",
    "  }\n",
    "}"
   ]
  },
  {
   "cell_type": "markdown",
   "metadata": {},
   "source": [
    "# 先Reverse一般的Dictionary進行測試"
   ]
  },
  {
   "cell_type": "code",
   "execution_count": 9,
   "metadata": {},
   "outputs": [],
   "source": [
    "a={\"a\":1,\"b\":2}"
   ]
  },
  {
   "cell_type": "code",
   "execution_count": 11,
   "metadata": {},
   "outputs": [
    {
     "data": {
      "text/plain": [
       "{1: 'a', 2: 'b'}"
      ]
     },
     "execution_count": 11,
     "metadata": {},
     "output_type": "execute_result"
    }
   ],
   "source": [
    "reversed_dictionary = {value : key for (key, value) in a.items()}\n",
    "reversed_dictionary"
   ]
  },
  {
   "cell_type": "code",
   "execution_count": 4,
   "metadata": {},
   "outputs": [
    {
     "data": {
      "text/plain": [
       "{'hired': {'be': {'to': {'deserve': 'I'}}}}"
      ]
     },
     "execution_count": 4,
     "metadata": {},
     "output_type": "execute_result"
    }
   ],
   "source": [
    "input_value"
   ]
  },
  {
   "cell_type": "code",
   "execution_count": 49,
   "metadata": {},
   "outputs": [],
   "source": [
    "#Define 一個function\n",
    "#從最外層的dictionary取得第二層的字典\n",
    "#再依此類推取得第三層第四層的value\n",
    "def reverse(input_value):\n",
    "    for key,value in input_value.items():\n",
    "        for key1,value1 in value.items():\n",
    "            for key2, value2 in value1.items():\n",
    "                for key3, value3 in value2.items():\n",
    "                    #將取得的值重新組成dictionary\n",
    "                    output={value3:{key3:{key2:{key1:key}}}}\n",
    "    return output"
   ]
  },
  {
   "cell_type": "code",
   "execution_count": 51,
   "metadata": {},
   "outputs": [
    {
     "data": {
      "text/plain": [
       "{'I': {'deserve': {'to': {'be': 'hired'}}}}"
      ]
     },
     "execution_count": 51,
     "metadata": {},
     "output_type": "execute_result"
    }
   ],
   "source": [
    "output = reverse(input_value) \n",
    "output"
   ]
  },
  {
   "cell_type": "code",
   "execution_count": 46,
   "metadata": {},
   "outputs": [
    {
     "data": {
      "text/plain": [
       "True"
      ]
     },
     "execution_count": 46,
     "metadata": {},
     "output_type": "execute_result"
    }
   ],
   "source": [
    "#檢查與目標value是否相同\n",
    "output==output_value"
   ]
  }
 ],
 "metadata": {
  "kernelspec": {
   "display_name": "Python 3",
   "language": "python",
   "name": "python3"
  },
  "language_info": {
   "codemirror_mode": {
    "name": "ipython",
    "version": 3
   },
   "file_extension": ".py",
   "mimetype": "text/x-python",
   "name": "python",
   "nbconvert_exporter": "python",
   "pygments_lexer": "ipython3",
   "version": "3.7.3"
  }
 },
 "nbformat": 4,
 "nbformat_minor": 2
}
